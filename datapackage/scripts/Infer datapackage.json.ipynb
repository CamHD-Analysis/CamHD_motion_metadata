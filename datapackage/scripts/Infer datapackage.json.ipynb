{
 "cells": [
  {
   "cell_type": "code",
   "execution_count": 9,
   "metadata": {
    "collapsed": true
   },
   "outputs": [],
   "source": [
    "import datapackage\n",
    "import csv\n",
    "import io\n",
    "\n",
    "from jsontableschema import infer"
   ]
  },
  {
   "cell_type": "code",
   "execution_count": 10,
   "metadata": {
    "collapsed": true
   },
   "outputs": [],
   "source": [
    "dp = datapackage.DataPackage()"
   ]
  },
  {
   "cell_type": "code",
   "execution_count": 11,
   "metadata": {
    "collapsed": false
   },
   "outputs": [],
   "source": [
    "dp.descriptor['name'] = \"CamHD_motion_metadata\"\n",
    "dp.descriptor['title'] = \"CamHD_motion_metadata\"\n",
    "\n",
    "filepath = \"../regions.csv\"\n",
    "\n",
    "with io.open(filepath) as stream:\n",
    "    headers = ['mov_basename','start_frame','end_frame','scene_tag']\n",
    "    \n",
    "    values = csv.reader(stream)\n",
    "    \n",
    "    schema = infer(headers, values)\n",
    "    \n",
    "    dp.descriptor['resources'] = [\n",
    "        {\n",
    "            'name': 'regions',\n",
    "            'path': 'regions.json',\n",
    "            'schema': schema\n",
    "        }\n",
    "    ]\n",
    "    "
   ]
  },
  {
   "cell_type": "code",
   "execution_count": 13,
   "metadata": {
    "collapsed": true
   },
   "outputs": [],
   "source": [
    "with open('../datapackage.json', 'w') as f:\n",
    "    f.write(dp.to_json())"
   ]
  },
  {
   "cell_type": "code",
   "execution_count": null,
   "metadata": {
    "collapsed": true
   },
   "outputs": [],
   "source": []
  }
 ],
 "metadata": {
  "kernelspec": {
   "display_name": "Python 3",
   "language": "python",
   "name": "python3"
  },
  "language_info": {
   "codemirror_mode": {
    "name": "ipython",
    "version": 3
   },
   "file_extension": ".py",
   "mimetype": "text/x-python",
   "name": "python",
   "nbconvert_exporter": "python",
   "pygments_lexer": "ipython3",
   "version": "3.6.0"
  }
 },
 "nbformat": 4,
 "nbformat_minor": 2
}
